{
 "cells": [
  {
   "cell_type": "code",
   "execution_count": 41,
   "metadata": {},
   "outputs": [],
   "source": [
    "import pandas as pd\n",
    "import numpy as np\n",
    "from sklearn.feature_extraction.text import TfidfVectorizer, CountVectorizer\n",
    "from sklearn.metrics.pairwise import cosine_similarity, linear_kernel"
   ]
  },
  {
   "cell_type": "code",
   "execution_count": 44,
   "metadata": {},
   "outputs": [],
   "source": [
    "df = pd.read_csv('clean_data.csv')"
   ]
  },
  {
   "cell_type": "code",
   "execution_count": 3,
   "metadata": {},
   "outputs": [
    {
     "data": {
      "text/plain": [
       "array([30000000.0, 862.0, 'en',\n",
       "       \"led by woody, andy's toys live happily in his room until andy's birthday brings buzz lightyear onto the scene. afraid of losing his place in andy's heart, woody plots against buzz. but when circumstances separate buzz and woody from their owner, the duo eventually learns to put aside their differences.\",\n",
       "       21.946943, '1995-10-30', 373554033.0, 81.0, 'released', nan,\n",
       "       'toy story', 7.7, 5415.0, 10194.0, 'toy story collection',\n",
       "       '/7g9915lfuq2lvfwmeehdsn3kt4b.jpg',\n",
       "       '/9fbwqcd9irruedurtdcaafomkuq.jpg', 'animation | comedy | family',\n",
       "       'pixar animation studios', 'united states of america', 'english',\n",
       "       1995.0, 12.4518011, 'john lasseter'], dtype=object)"
      ]
     },
     "execution_count": 3,
     "metadata": {},
     "output_type": "execute_result"
    }
   ],
   "source": [
    "df.values[0]"
   ]
  },
  {
   "cell_type": "code",
   "execution_count": 5,
   "metadata": {},
   "outputs": [],
   "source": [
    "titulo = input(\"Enter the name of a movie: \")\n",
    "titulo = titulo.lower()"
   ]
  },
  {
   "cell_type": "code",
   "execution_count": 57,
   "metadata": {},
   "outputs": [
    {
     "name": "stdout",
     "output_type": "stream",
     "text": [
      "['toy story 3', 'toy story 2', 'the 40 year old virgin', 'small fry', \"andy hardy's blonde trouble\"]\n"
     ]
    }
   ],
   "source": [
    "# We request the title\n",
    "\n",
    "titulo = input(\"Enter the name of a movie: \")\n",
    "titulo = titulo.lower()\n",
    "\n",
    "# it gets the index of a given movie (by tittle)\n",
    "index = df[df['title'].str.lower() == titulo].index[0]\n",
    "\n",
    "# Combine the movie overview and vote_count for the TF-IDF matrix\n",
    "df['overview_with_vote'] = df['overview'] + ' ' + df['vote_count'].astype(str)\n",
    "    \n",
    "# it gets the characteristic vector TF-IDF for the movie synopsis\n",
    "tfidf = TfidfVectorizer(stop_words='english')\n",
    "tfidf_matrix = tfidf.fit_transform(df['overview_with_vote'].fillna(''))\n",
    "    \n",
    "# it calculates a punctuation of alikeness(cosine_similarity) between a given movie and other movies.\n",
    "similarity_scores = cosine_similarity(tfidf_matrix[index], tfidf_matrix).flatten()\n",
    "    \n",
    "# it gets the index of more similar movies excluding the given movie\n",
    "similar_indices = similarity_scores.argsort()[::-1][1:6] # this reverses the list of similarity score excluding the first element(the similarity with itself)\n",
    "    \n",
    "# it gets the titles of the more similar movies\n",
    "peliculas_recomendadas = df.iloc[similar_indices]['title'].tolist()\n",
    "\n",
    "print(peliculas_recomendadas)"
   ]
  }
 ],
 "metadata": {
  "kernelspec": {
   "display_name": "Python 3",
   "language": "python",
   "name": "python3"
  },
  "language_info": {
   "codemirror_mode": {
    "name": "ipython",
    "version": 3
   },
   "file_extension": ".py",
   "mimetype": "text/x-python",
   "name": "python",
   "nbconvert_exporter": "python",
   "pygments_lexer": "ipython3",
   "version": "3.11.1"
  },
  "orig_nbformat": 4
 },
 "nbformat": 4,
 "nbformat_minor": 2
}
